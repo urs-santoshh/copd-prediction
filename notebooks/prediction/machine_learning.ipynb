{
 "cells": [
  {
   "cell_type": "markdown",
   "metadata": {},
   "source": [
    "## Split the data into training and testing"
   ]
  },
  {
   "cell_type": "code",
   "execution_count": 12,
   "metadata": {},
   "outputs": [],
   "source": [
    "import pandas as pd\n",
    "from sklearn.model_selection import train_test_split"
   ]
  },
  {
   "cell_type": "code",
   "execution_count": 13,
   "metadata": {},
   "outputs": [],
   "source": [
    "# load the dataset\n",
    "df = pd.read_csv(\"../../data/engineered_COPD_data.csv\")"
   ]
  },
  {
   "cell_type": "code",
   "execution_count": 14,
   "metadata": {},
   "outputs": [],
   "source": [
    "# define the features and the target variable\n",
    "X, y = df.drop(columns=[\"COPD_Diagnosis\"]), df[\"COPD_Diagnosis\"]"
   ]
  },
  {
   "cell_type": "code",
   "execution_count": 15,
   "metadata": {},
   "outputs": [],
   "source": [
    "# split the data into training and testing dataset\n",
    "X_train, X_test, y_train, y_test = train_test_split(X, y, test_size=0.2, random_state=42)"
   ]
  },
  {
   "cell_type": "markdown",
   "metadata": {},
   "source": [
    "## Model training\n",
    "- Based on the data, it is a binary classification problem set as we are prediction if someone has COPD or not, hence we are going to use following models:\n",
    "    - Logistic Regression\n",
    "    - Decision Trees\n",
    "    - Random Forest"
   ]
  },
  {
   "cell_type": "code",
   "execution_count": 16,
   "metadata": {},
   "outputs": [],
   "source": [
    "# import necessary libraries\n",
    "from sklearn.linear_model import LogisticRegression\n",
    "from sklearn.tree import DecisionTreeClassifier\n",
    "from sklearn.ensemble import RandomForestClassifier\n",
    "from sklearn.metrics import classification_report\n",
    "import pickle"
   ]
  },
  {
   "cell_type": "code",
   "execution_count": 17,
   "metadata": {},
   "outputs": [],
   "source": [
    "# initialize the model\n",
    "models = {\n",
    "    \"Logistic Regression\": LogisticRegression(max_iter=1000),\n",
    "    \"Decision Tree\": DecisionTreeClassifier(),\n",
    "    \"Random Forest\": RandomForestClassifier()\n",
    "}"
   ]
  },
  {
   "cell_type": "code",
   "execution_count": 20,
   "metadata": {},
   "outputs": [
    {
     "name": "stdout",
     "output_type": "stream",
     "text": [
      "Logistic Regression model trained and saved\n",
      "Decision Tree model trained and saved\n",
      "Random Forest model trained and saved\n",
      "Model training completed\n"
     ]
    }
   ],
   "source": [
    "# Train the models\n",
    "for name, model in models.items():\n",
    "    model.fit(X_train, y_train)\n",
    "\n",
    "    # Save the models\n",
    "    with open(f\"../../models/{name.replace(' ', '_')}.pkl\", \"wb\") as file:\n",
    "        pickle.dump(model, file)\n",
    "    \n",
    "    print(f\"{name} model trained and saved\")\n",
    "\n",
    "print(\"Model training completed\")\n"
   ]
  },
  {
   "cell_type": "markdown",
   "metadata": {},
   "source": [
    "## Evaluate the models\n",
    "- Accuracy, Precision, Recall ,F1 score"
   ]
  },
  {
   "cell_type": "code",
   "execution_count": 21,
   "metadata": {},
   "outputs": [
    {
     "name": "stdout",
     "output_type": "stream",
     "text": [
      "\n",
      "Logistic Regression Evaluation: \n",
      "              precision    recall  f1-score   support\n",
      "\n",
      "           0       0.97      0.98      0.97       134\n",
      "           1       0.95      0.94      0.95        66\n",
      "\n",
      "    accuracy                           0.96       200\n",
      "   macro avg       0.96      0.96      0.96       200\n",
      "weighted avg       0.96      0.96      0.96       200\n",
      "\n",
      "\n",
      "Decision Tree Evaluation: \n",
      "              precision    recall  f1-score   support\n",
      "\n",
      "           0       1.00      1.00      1.00       134\n",
      "           1       1.00      1.00      1.00        66\n",
      "\n",
      "    accuracy                           1.00       200\n",
      "   macro avg       1.00      1.00      1.00       200\n",
      "weighted avg       1.00      1.00      1.00       200\n",
      "\n",
      "\n",
      "Random Forest Evaluation: \n",
      "              precision    recall  f1-score   support\n",
      "\n",
      "           0       0.99      1.00      1.00       134\n",
      "           1       1.00      0.98      0.99        66\n",
      "\n",
      "    accuracy                           0.99       200\n",
      "   macro avg       1.00      0.99      0.99       200\n",
      "weighted avg       1.00      0.99      0.99       200\n",
      "\n"
     ]
    }
   ],
   "source": [
    "for name, model in models.items():\n",
    "    y_pred = model.predict(X_test)\n",
    "    print(f\"\\n{name} Evaluation: \")\n",
    "    print(classification_report(y_test, y_pred))"
   ]
  },
  {
   "cell_type": "markdown",
   "metadata": {},
   "source": [
    "## Model refinement"
   ]
  },
  {
   "cell_type": "code",
   "execution_count": 23,
   "metadata": {},
   "outputs": [],
   "source": [
    "from sklearn.model_selection import GridSearchCV"
   ]
  },
  {
   "cell_type": "code",
   "execution_count": 25,
   "metadata": {},
   "outputs": [],
   "source": [
    "# define the parameter grid for random forest\n",
    "params_grid = {\n",
    "    \"n_estimators\": [50, 100, 200],\n",
    "    \"max_depth\": [None, 10, 20, 30],\n",
    "    \"min_sample_split\": [2, 3, 10]\n",
    "}"
   ]
  },
  {
   "cell_type": "code",
   "execution_count": 26,
   "metadata": {},
   "outputs": [],
   "source": [
    "# initialize the grid search cv\\\n",
    "grid_search = GridSearchCV(estimator=RandomForestClassifier(), param_grid=params_grid, cv=5, n_jobs = -1, scoring=\"accuracy\")"
   ]
  },
  {
   "cell_type": "code",
   "execution_count": 28,
   "metadata": {},
   "outputs": [
    {
     "ename": "TypeError",
     "evalue": "estimator should be an estimator implementing 'fit' method,      Age  Biomass_Fuel_Exposure  Occupational_Exposure  Family_History_COPD  \\\n29    50                      0                      0                    0   \n535   35                      1                      0                    1   \n695   76                      1                      0                    0   \n557   53                      1                      0                    0   \n836   77                      0                      1                    0   \n..   ...                    ...                    ...                  ...   \n106   50                      1                      0                    0   \n270   49                      1                      0                    0   \n860   65                      0                      0                    0   \n435   77                      0                      0                    0   \n102   36                      1                      1                    1   \n\n       BMI  Air_Pollution_Level  Respiratory_Infections_Childhood  \\\n29   25.34                  135                                 1   \n535  20.41                  123                                 1   \n695  24.52                   63                                 1   \n557  25.27                  106                                 0   \n836  33.60                  135                                 0   \n..     ...                  ...                               ...   \n106  28.27                  131                                 1   \n270  34.63                  171                                 1   \n860  33.96                  109                                 1   \n435  25.50                  179                                 0   \n102  30.63                   72                                 1   \n\n     Pollution_Risk_Score  Smoking_Status_encoded  Gender_  \\\n29                      0                     0.0        0   \n535                     0                     1.0        0   \n695                     0                     0.0        0   \n557                     0                     0.5        1   \n836                     0                     0.0        0   \n..                    ...                     ...      ...   \n106                     0                     0.5        1   \n270                     1                     0.5        1   \n860                     0                     1.0        1   \n435                     1                     1.0        1   \n102                     0                     0.0        1   \n\n     Smoking_Pollution_Interaction  Location_Biratnagar  Location_Butwal  \\\n29                             0.0                False            False   \n535                          123.0                False            False   \n695                            0.0                False             True   \n557                           53.0                False            False   \n836                            0.0                False            False   \n..                             ...                  ...              ...   \n106                           65.5                False            False   \n270                           85.5                 True            False   \n860                          109.0                False            False   \n435                          179.0                False            False   \n102                            0.0                False            False   \n\n     Location_Chitwan  Location_Dharan  Location_Hetauda  Location_Kathmandu  \\\n29              False            False              True               False   \n535             False            False             False               False   \n695             False            False             False               False   \n557             False            False             False               False   \n836             False            False             False               False   \n..                ...              ...               ...                 ...   \n106             False            False             False               False   \n270             False            False             False               False   \n860             False            False             False               False   \n435             False            False             False               False   \n102              True            False             False               False   \n\n     Location_Lalitpur  Location_Nepalgunj  Location_Pokhara  \n29               False               False             False  \n535              False               False             False  \n695              False               False             False  \n557              False               False             False  \n836              False               False             False  \n..                 ...                 ...               ...  \n106              False               False              True  \n270              False               False             False  \n860               True               False             False  \n435              False                True             False  \n102              False               False             False  \n\n[800 rows x 20 columns] was passed",
     "output_type": "error",
     "traceback": [
      "\u001b[1;31m---------------------------------------------------------------------------\u001b[0m",
      "\u001b[1;31mTypeError\u001b[0m                                 Traceback (most recent call last)",
      "Cell \u001b[1;32mIn[28], line 2\u001b[0m\n\u001b[0;32m      1\u001b[0m \u001b[38;5;66;03m# fit the grid search cv\u001b[39;00m\n\u001b[1;32m----> 2\u001b[0m grid_search\u001b[38;5;241m.\u001b[39mfit(X_train, y_train)\n",
      "File \u001b[1;32mc:\\Users\\DELL\\anaconda3\\Lib\\site-packages\\sklearn\\model_selection\\_search.py:776\u001b[0m, in \u001b[0;36mBaseSearchCV.fit\u001b[1;34m(self, X, y, groups, **fit_params)\u001b[0m\n\u001b[0;32m    774\u001b[0m     scorers \u001b[38;5;241m=\u001b[39m \u001b[38;5;28mself\u001b[39m\u001b[38;5;241m.\u001b[39mscoring\n\u001b[0;32m    775\u001b[0m \u001b[38;5;28;01melif\u001b[39;00m \u001b[38;5;28mself\u001b[39m\u001b[38;5;241m.\u001b[39mscoring \u001b[38;5;129;01mis\u001b[39;00m \u001b[38;5;28;01mNone\u001b[39;00m \u001b[38;5;129;01mor\u001b[39;00m \u001b[38;5;28misinstance\u001b[39m(\u001b[38;5;28mself\u001b[39m\u001b[38;5;241m.\u001b[39mscoring, \u001b[38;5;28mstr\u001b[39m):\n\u001b[1;32m--> 776\u001b[0m     scorers \u001b[38;5;241m=\u001b[39m check_scoring(\u001b[38;5;28mself\u001b[39m\u001b[38;5;241m.\u001b[39mestimator, \u001b[38;5;28mself\u001b[39m\u001b[38;5;241m.\u001b[39mscoring)\n\u001b[0;32m    777\u001b[0m \u001b[38;5;28;01melse\u001b[39;00m:\n\u001b[0;32m    778\u001b[0m     scorers \u001b[38;5;241m=\u001b[39m _check_multimetric_scoring(\u001b[38;5;28mself\u001b[39m\u001b[38;5;241m.\u001b[39mestimator, \u001b[38;5;28mself\u001b[39m\u001b[38;5;241m.\u001b[39mscoring)\n",
      "File \u001b[1;32mc:\\Users\\DELL\\anaconda3\\Lib\\site-packages\\sklearn\\metrics\\_scorer.py:474\u001b[0m, in \u001b[0;36mcheck_scoring\u001b[1;34m(estimator, scoring, allow_none)\u001b[0m\n\u001b[0;32m    448\u001b[0m \u001b[38;5;250m\u001b[39m\u001b[38;5;124;03m\"\"\"Determine scorer from user options.\u001b[39;00m\n\u001b[0;32m    449\u001b[0m \n\u001b[0;32m    450\u001b[0m \u001b[38;5;124;03mA TypeError will be thrown if the estimator cannot be scored.\u001b[39;00m\n\u001b[1;32m   (...)\u001b[0m\n\u001b[0;32m    471\u001b[0m \u001b[38;5;124;03m    ``scorer(estimator, X, y)``.\u001b[39;00m\n\u001b[0;32m    472\u001b[0m \u001b[38;5;124;03m\"\"\"\u001b[39;00m\n\u001b[0;32m    473\u001b[0m \u001b[38;5;28;01mif\u001b[39;00m \u001b[38;5;129;01mnot\u001b[39;00m \u001b[38;5;28mhasattr\u001b[39m(estimator, \u001b[38;5;124m\"\u001b[39m\u001b[38;5;124mfit\u001b[39m\u001b[38;5;124m\"\u001b[39m):\n\u001b[1;32m--> 474\u001b[0m     \u001b[38;5;28;01mraise\u001b[39;00m \u001b[38;5;167;01mTypeError\u001b[39;00m(\n\u001b[0;32m    475\u001b[0m         \u001b[38;5;124m\"\u001b[39m\u001b[38;5;124mestimator should be an estimator implementing \u001b[39m\u001b[38;5;124m'\u001b[39m\u001b[38;5;124mfit\u001b[39m\u001b[38;5;124m'\u001b[39m\u001b[38;5;124m method, \u001b[39m\u001b[38;5;132;01m%r\u001b[39;00m\u001b[38;5;124m was passed\u001b[39m\u001b[38;5;124m\"\u001b[39m\n\u001b[0;32m    476\u001b[0m         \u001b[38;5;241m%\u001b[39m estimator\n\u001b[0;32m    477\u001b[0m     )\n\u001b[0;32m    478\u001b[0m \u001b[38;5;28;01mif\u001b[39;00m \u001b[38;5;28misinstance\u001b[39m(scoring, \u001b[38;5;28mstr\u001b[39m):\n\u001b[0;32m    479\u001b[0m     \u001b[38;5;28;01mreturn\u001b[39;00m get_scorer(scoring)\n",
      "\u001b[1;31mTypeError\u001b[0m: estimator should be an estimator implementing 'fit' method,      Age  Biomass_Fuel_Exposure  Occupational_Exposure  Family_History_COPD  \\\n29    50                      0                      0                    0   \n535   35                      1                      0                    1   \n695   76                      1                      0                    0   \n557   53                      1                      0                    0   \n836   77                      0                      1                    0   \n..   ...                    ...                    ...                  ...   \n106   50                      1                      0                    0   \n270   49                      1                      0                    0   \n860   65                      0                      0                    0   \n435   77                      0                      0                    0   \n102   36                      1                      1                    1   \n\n       BMI  Air_Pollution_Level  Respiratory_Infections_Childhood  \\\n29   25.34                  135                                 1   \n535  20.41                  123                                 1   \n695  24.52                   63                                 1   \n557  25.27                  106                                 0   \n836  33.60                  135                                 0   \n..     ...                  ...                               ...   \n106  28.27                  131                                 1   \n270  34.63                  171                                 1   \n860  33.96                  109                                 1   \n435  25.50                  179                                 0   \n102  30.63                   72                                 1   \n\n     Pollution_Risk_Score  Smoking_Status_encoded  Gender_  \\\n29                      0                     0.0        0   \n535                     0                     1.0        0   \n695                     0                     0.0        0   \n557                     0                     0.5        1   \n836                     0                     0.0        0   \n..                    ...                     ...      ...   \n106                     0                     0.5        1   \n270                     1                     0.5        1   \n860                     0                     1.0        1   \n435                     1                     1.0        1   \n102                     0                     0.0        1   \n\n     Smoking_Pollution_Interaction  Location_Biratnagar  Location_Butwal  \\\n29                             0.0                False            False   \n535                          123.0                False            False   \n695                            0.0                False             True   \n557                           53.0                False            False   \n836                            0.0                False            False   \n..                             ...                  ...              ...   \n106                           65.5                False            False   \n270                           85.5                 True            False   \n860                          109.0                False            False   \n435                          179.0                False            False   \n102                            0.0                False            False   \n\n     Location_Chitwan  Location_Dharan  Location_Hetauda  Location_Kathmandu  \\\n29              False            False              True               False   \n535             False            False             False               False   \n695             False            False             False               False   \n557             False            False             False               False   \n836             False            False             False               False   \n..                ...              ...               ...                 ...   \n106             False            False             False               False   \n270             False            False             False               False   \n860             False            False             False               False   \n435             False            False             False               False   \n102              True            False             False               False   \n\n     Location_Lalitpur  Location_Nepalgunj  Location_Pokhara  \n29               False               False             False  \n535              False               False             False  \n695              False               False             False  \n557              False               False             False  \n836              False               False             False  \n..                 ...                 ...               ...  \n106              False               False              True  \n270              False               False             False  \n860               True               False             False  \n435              False                True             False  \n102              False               False             False  \n\n[800 rows x 20 columns] was passed"
     ]
    }
   ],
   "source": [
    "# fit the grid search cv\n",
    "grid_search.fit(X_train, y_train)"
   ]
  },
  {
   "cell_type": "code",
   "execution_count": null,
   "metadata": {},
   "outputs": [],
   "source": [
    "# best parameters\n",
    "print(f\"Best Parameters: {grid_search.best_params_}\")\n",
    "best_model = grid_search.best_estimator_"
   ]
  }
 ],
 "metadata": {
  "kernelspec": {
   "display_name": "base",
   "language": "python",
   "name": "python3"
  },
  "language_info": {
   "codemirror_mode": {
    "name": "ipython",
    "version": 3
   },
   "file_extension": ".py",
   "mimetype": "text/x-python",
   "name": "python",
   "nbconvert_exporter": "python",
   "pygments_lexer": "ipython3",
   "version": "3.11.7"
  }
 },
 "nbformat": 4,
 "nbformat_minor": 2
}
