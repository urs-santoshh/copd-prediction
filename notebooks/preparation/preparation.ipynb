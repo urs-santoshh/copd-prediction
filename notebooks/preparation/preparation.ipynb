{
    "cells": [
        {
            "cell_type": "markdown",
            "metadata": {},
            "source": [
                "# Data Collection\n",
                "\n",
                "## Identify the data sources\n",
                "- Health Data Portals - WHO, World Bank, Nepals Ministry of Health\n",
                "- Research Papers - Google Scholar\n",
                "- Public Datasets - Kaggle, Data.gov, Open Data Nepal, \n",
                "- Hospitals and Clinics"
            ]
        },
        {
            "cell_type": "markdown",
            "metadata": {},
            "source": [
                "# References:\n",
                "- https://www.who.int/home/search-results?indexCatalogue=genericsearchindex1&searchQuery=Chronic%20Obstructive%20Pulmonary%20Disease&wordsMode=AnyWord\n",
                "\n",
                "- https://www.worldbank.org/en/search?q=Chronic+Obstructive+Pulmonary+Diseas\n",
                "- https://www.dovepress.com/factors-associated-with-chronic-obstructive-pulmonary-diseases-in-nepa-peer-reviewed-fulltext-article-COPD\n",
                "- https://www.tandfonline.com/doi/pdf/10.2147/COPD.S268110\n",
                "- https://github.com/phenoflow/Chronic-Obstructive-Pulmonary-Disease---9387f040-1873-11ef-9de4-4d4ea830ad16?tab=readme-ov-file\n",
                "- "
            ]
        }
    ],
    "metadata": {
        "language_info": {
            "name": "python"
        }
    },
    "nbformat": 4,
    "nbformat_minor": 2
}
